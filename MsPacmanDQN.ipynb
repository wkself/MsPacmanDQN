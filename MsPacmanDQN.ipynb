{
  "nbformat": 4,
  "nbformat_minor": 0,
  "metadata": {
    "colab": {
      "provenance": [],
      "authorship_tag": "ABX9TyOXQIf0D2HAW0MUVYuDWJO8"
    },
    "kernelspec": {
      "name": "python3",
      "display_name": "Python 3"
    },
    "language_info": {
      "name": "python"
    }
  },
  "cells": [
    {
      "cell_type": "markdown",
      "source": [
        "Install main Gymnasium library, Atari 2600 game familiy dependencies, and other Python libraries we'll be using for data manipulation & visualization"
      ],
      "metadata": {
        "id": "a0httjbA4OtH"
      }
    },
    {
      "cell_type": "code",
      "execution_count": null,
      "metadata": {
        "id": "wy-nYgdC16s5"
      },
      "outputs": [],
      "source": [
        "!pip install gymnasium\n",
        "!pip install \"gymnasium[atari]\"\n",
        "!pip install \"gymnasium[accept-rom-license]\" #necessary for Atari envs"
      ]
    },
    {
      "cell_type": "code",
      "source": [
        "!pip install numpy\n",
        "!pip install seaborn\n",
        "!pip install tqdm\n",
        "%matplotlib inline"
      ],
      "metadata": {
        "id": "oXDipMgB5z2P"
      },
      "execution_count": null,
      "outputs": []
    },
    {
      "cell_type": "markdown",
      "source": [
        "Import modules for code"
      ],
      "metadata": {
        "id": "BKorWvIu6OY3"
      }
    },
    {
      "cell_type": "code",
      "source": [
        "from collections import defaultdict #avoid key errors\n",
        "\n",
        "import matplotlib.pyplot as plt #plots\n",
        "from matplotlib.patches import patch #shapes\n",
        "import numpy as np\n",
        "import seaborn as sns #further data visualization\n",
        "from tqdm import tqdm #monitor progress for training\n",
        "\n",
        "import gymnasium as gym"
      ],
      "metadata": {
        "id": "bxnhymqS6tom"
      },
      "execution_count": null,
      "outputs": []
    },
    {
      "cell_type": "markdown",
      "source": [
        "Create MsPacman environment, visualize the environment.\n",
        "Our seed resets the RNG of the environment and produces a random state upon resetting"
      ],
      "metadata": {
        "id": "xLBNbf8k8U2J"
      }
    },
    {
      "cell_type": "code",
      "source": [
        "#from collections import defaultdict #avoid key errors\n",
        "\n",
        "#import matplotlib.pyplot as plt #plots\n",
        "#from matplotlib.patches import patch #shapes\n",
        "#import numpy as np\n",
        "#import seaborn as sns #further data visualization\n",
        "#from tqdm import tqdm #monitor progress for training\n",
        "\n",
        "import gymnasium as gym\n",
        "\n",
        "env = gym.make(\"ALE/MsPacman-v5\")\n",
        "observation, info = env.reset(seed=42)\n",
        "\n",
        "\n",
        "\n",
        "#we are sampling 1000 actions from a possible selection of 9\n",
        "#generally excluded actions have no effect in the specific game\n",
        "#this env is built with 9 actions but can be tuned to 18 to match Atari systems\n",
        "\n",
        "for _ in range(1000):\n",
        "  action = env.action_space.sample() #remember, sampling from 1 - 9 here\n",
        "  observation, reward, terminated, truncated, info = env.step(action)\n",
        "\n",
        "  if terminated or truncated:\n",
        "    observation, info = env.reset()\n",
        "\n",
        "env.close()\n",
        "\n"
      ],
      "metadata": {
        "id": "i7lQw5ux8UUO"
      },
      "execution_count": 26,
      "outputs": []
    }
  ]
}