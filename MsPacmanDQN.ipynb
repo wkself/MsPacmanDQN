{
  "nbformat": 4,
  "nbformat_minor": 0,
  "metadata": {
    "colab": {
      "provenance": [],
      "authorship_tag": "ABX9TyMJ6ar6kA+iffN/KgaXxsJm"
    },
    "kernelspec": {
      "name": "python3",
      "display_name": "Python 3"
    },
    "language_info": {
      "name": "python"
    }
  },
  "cells": [
    {
      "cell_type": "markdown",
      "source": [
        "Install main Gymnasium library, Atari 2600 game familiy dependencies, and other Python libraries we'll be using for data manipulation & visualization"
      ],
      "metadata": {
        "id": "a0httjbA4OtH"
      }
    },
    {
      "cell_type": "code",
      "execution_count": null,
      "metadata": {
        "id": "wy-nYgdC16s5"
      },
      "outputs": [],
      "source": [
        "!pip install gymnasium\n",
        "!pip install \"gymnasium[atari]\"\n",
        "!pip install \"gymnasium[accept-rom-license]\" #necessary for Atari envs"
      ]
    },
    {
      "cell_type": "code",
      "source": [
        "!pip install numpy\n",
        "!pip install seaborn\n",
        "!pip install tqdm\n",
        "%matplotlib inline"
      ],
      "metadata": {
        "id": "oXDipMgB5z2P"
      },
      "execution_count": null,
      "outputs": []
    },
    {
      "cell_type": "markdown",
      "source": [
        "Import modules for code"
      ],
      "metadata": {
        "id": "BKorWvIu6OY3"
      }
    },
    {
      "cell_type": "code",
      "source": [
        "from collections import defaultdict #avoid key errors\n",
        "\n",
        "import matplotlib.pyplot as plt #plots\n",
        "from matplotlib.patches import Patch #shapes\n",
        "import numpy as np\n",
        "import seaborn as sns #further data visualization\n",
        "from tqdm import tqdm #monitor progress for training\n",
        "\n",
        "import gymnasium as gym"
      ],
      "metadata": {
        "id": "bxnhymqS6tom"
      },
      "execution_count": null,
      "outputs": []
    },
    {
      "cell_type": "markdown",
      "source": [
        "Create MsPacman environment, visualize the environment.\n",
        "Our seed resets the RNG of the environment and produces a random state upon resetting"
      ],
      "metadata": {
        "id": "xLBNbf8k8U2J"
      }
    },
    {
      "cell_type": "code",
      "source": [
        "#from collections import defaultdict #avoid key errors\n",
        "\n",
        "#import matplotlib.pyplot as plt #plots\n",
        "#from matplotlib.patches import Patch #shapes\n",
        "#import numpy as np\n",
        "#import seaborn as sns #further data visualization\n",
        "#from tqdm import tqdm #monitor progress for training\n",
        "\n",
        "import gymnasium as gym\n",
        "\n",
        "env = gym.make(\"ALE/MsPacman-v5\")\n",
        "observation, info = env.reset(seed=42)\n",
        "\n",
        "\n",
        "\n",
        "#we are sampling 1000 actions from a possible selection of 9\n",
        "#generally excluded actions have no effect in the specific game\n",
        "#this env is built with 9 actions but can be tuned to 18 to match Atari systems\n",
        "\n",
        "for _ in range(1000):\n",
        "  action = env.action_space.sample() #remember, sampling from 1 - 9 here\n",
        "  observation, reward, terminated, truncated, info = env.step(action)\n",
        "\n",
        "  if terminated or truncated: #truncated, if the timer runs out\n",
        "    observation, info = env.reset()\n",
        "\n",
        "env.close()"
      ],
      "metadata": {
        "id": "i7lQw5ux8UUO"
      },
      "execution_count": 5,
      "outputs": []
    },
    {
      "cell_type": "code",
      "source": [
        "import gymnasium as gym\n",
        "import matplotlib.pyplot as plt\n",
        "from IPython import display #workaround to visualize env in jupyter notebook\n",
        "\n",
        "env = gym.make(\"ALE/MsPacman-v5\", render_mode='rgb_array')\n",
        "env.reset()\n",
        "\n",
        "plt.figure(figsize=(9, 9))\n",
        "plt.imshow(env.render())\n",
        "plt.axis('off')\n",
        "plt.show()\n",
        "\n",
        "env.close()\n",
        "\n",
        "#simple visualization of the game state"
      ],
      "metadata": {
        "colab": {
          "base_uri": "https://localhost:8080/",
          "height": 818
        },
        "id": "3ghsdFlGu19u",
        "outputId": "89275991-4847-4322-b14f-3137b7f7f7e4"
      },
      "execution_count": 11,
      "outputs": [
        {
          "output_type": "stream",
          "name": "stderr",
          "text": [
            "/usr/local/lib/python3.10/dist-packages/ipykernel/ipkernel.py:283: DeprecationWarning: `should_run_async` will not call `transform_cell` automatically in the future. Please pass the result to `transformed_cell` argument and any exception that happen during thetransform in `preprocessing_exc_tuple` in IPython 7.17 and above.\n",
            "  and should_run_async(code)\n",
            "/usr/local/lib/python3.10/dist-packages/gymnasium/utils/passive_env_checker.py:364: UserWarning: \u001b[33mWARN: No render fps was declared in the environment (env.metadata['render_fps'] is None or not defined), rendering may occur at inconsistent fps.\u001b[0m\n",
            "  logger.warn(\n"
          ]
        },
        {
          "output_type": "display_data",
          "data": {
            "text/plain": [
              "<Figure size 900x900 with 1 Axes>"
            ],
            "image/png": "[encoded data removed]"
          },
          "metadata": {}
        }
      ]
    },
    {
      "cell_type": "markdown",
      "source": [
        "Alright, we've set up our environment and created a basic loop to visualize different actions. Let's create a DQN Agent to train our model. We'll be implementing the algorithm here."
      ],
      "metadata": {
        "id": "UNqDG3D9umHy"
      }
    },
    {
      "cell_type": "markdown",
      "source": [
        "First step is to import the libraries we'll use. PyTorch is the framework I'm using to build the model."
      ],
      "metadata": {
        "id": "taB8JGJGz2_C"
      }
    },
    {
      "cell_type": "code",
      "source": [
        "import random\n",
        "import numpy as np\n",
        "import torch\n",
        "import torch.nn as nn #graphs\n",
        "import torch.optim as optim #further optimization algorithms\n",
        "import torch.nn.functional as F"
      ],
      "metadata": {
        "id": "x-qsUYbbzkQ8"
      },
      "execution_count": null,
      "outputs": []
    },
    {
      "cell_type": "markdown",
      "source": [
        "Next step is to define the DQN class. This contains the components of the algorithm for later implementation in the DQN agent."
      ],
      "metadata": {
        "id": "zj9NFt6Y0brX"
      }
    },
    {
      "cell_type": "code",
      "source": [
        "class DQN(nn.Module):\n",
        "  def __init__(self, input_shape, num_actions):\n",
        "    super(DQN, self).__init__()\n",
        "    #applies linear transformation to the input data\n",
        "    #we define a neural network of 3 fully connected (fc) layers\n",
        "    #input shape is the shape of our input state\n",
        "    #num_actions is the variable representing total number of actions in env\n",
        "    #in our case, num_actions is set to discrete 9 per this Atari game env\n",
        "    self.fc1 = nn.Linear(input_shape, 64)\n",
        "    self.fc2 = nn.Linear(64, 64)\n",
        "    self.fc3 = nn.Linear(64, num_actions)\n",
        "\n",
        "  def forward(self, x):\n",
        "    x = F.relu(self.fc1(x))\n",
        "    x = F.relu(self.fc2(x))\n",
        "    x = self.fc3(x)\n",
        "\n",
        "    return x\n"
      ],
      "metadata": {
        "id": "Nkzt4PdC0mYj"
      },
      "execution_count": null,
      "outputs": []
    },
    {
      "cell_type": "markdown",
      "source": [
        "Implement a replay buffer class, which will allow an agent to access their \"memories\" and train based on that data. The function below dictates the variables encapsulated in each experience pushed to the buffer. In this method those variables are self, state, action, reward, next_state, done."
      ],
      "metadata": {
        "id": "cHxM6s_E2oJY"
      }
    },
    {
      "cell_type": "code",
      "source": [
        "class ReplayBuffer():\n",
        "  def __init__(self, capacity):\n",
        "    self.capacity = capacity #buffer has a fixed capacity\n",
        "    self.buffer = []\n",
        "    self.position = 0\n",
        "\n",
        "  def push(self, state, action, reward, next_state, done): #adds to buffer\n",
        "    if len(self.buffer) < self.capacity:\n",
        "      self.buffer.append(None) #overwrites the oldest experience if full\n",
        "    self.buffer[self.position] = (state, action, reward, next_state, done)\n",
        "    self.position = (self.position + 1) % self.capacity\n",
        "\n",
        "  def sample(self, batch_size):\n",
        "    #retrieves random batch of experiences from buffer\n",
        "    batch = random.sample(self.buffer, batch_size)\n",
        "    states, actions, rewards, next_states, dones = zip(*batch)\n",
        "    return np.array(states), actions, rewards, np.array(next_states), dones\n",
        "\n",
        "  def __len__(self):\n",
        "    return len(self.buffer) #returns number of experiences in buffer"
      ],
      "metadata": {
        "id": "nOWxbRfk2t7b"
      },
      "execution_count": null,
      "outputs": []
    },
    {
      "cell_type": "markdown",
      "source": [
        "Implementing the actual algorithms in our DQNAgent class. This is my first time implementing these algorithms in code and as such could be further optimized with different policies."
      ],
      "metadata": {
        "id": "b85hZynt5MP_"
      }
    },
    {
      "cell_type": "code",
      "source": [
        "class DQNAgent():\n",
        "  def __init__(self, env, replay_buffer, batch_size, gamma, epsilon_start, epsilon_end, epsilon_decay):\n",
        "    #our initialization method sets up our networks, optimizer, and loss func\n",
        "    self.env = env\n",
        "    self.replay_buffer = replay_buffer\n",
        "    self.batch_size = batch_size\n",
        "    self.gamma = gamma\n",
        "    self.epsilon = epsilon_start\n",
        "    self.epsilon_end = epsilon_end\n",
        "    self.epsilon_decay = epsilon_decay\n",
        "\n",
        "    self.policy_net = DQN(env.observation_space.shape[0], env.action_space.n)\n",
        "    self.target_net = DQN(env.observation_space.shape[0], env.action_space.n)\n",
        "    self.target_net.load_state_dict(self.policy_net.state_dict())\n",
        "    self.target_net.eval()\n",
        "\n",
        "    self.optimizer.optim.Adam(self.policy_net.parameters())\n",
        "    self.loss_fn = nn.SmoothL1Loss()\n",
        "\n",
        "  def select_action(self, state):\n",
        "    #selects action based on epsilon-greedy policy\n",
        "    if random.random() < self.epsilon:\n",
        "      return self.env.action_space.sample()\n",
        "    else:\n",
        "      with torch.no_grad():\n",
        "        q_values = self.policy_net(torch.tensor(state, dtype=torch.float32))\n",
        "        return q_values.argmax().item()\n",
        "\n",
        "  def train(self, num_episodes):\n",
        "    #runs training loop, we specify the number of episodes\n",
        "    #for every episode, agent interacts with environment, collects experiences,\n",
        "    #and updates the networks\n",
        "    episode_rewards = []\n",
        "    for episode in range(num_episodes):\n",
        "      state = self.env.reset()\n",
        "      done = False\n",
        "      total_reward = 0\n",
        "\n",
        "      while not done:\n",
        "        action = self.select_action(state)\n",
        "        next_state, reward, done, _ = self.env.step(action)\n",
        "        self.replay_buffer.push(state, action, reward, next_state, done)\n",
        "        state = next_state\n",
        "        total_reward += reward\n",
        "\n",
        "        if len(self.replay_buffer) >= self.batch_size:\n",
        "          states, actions, rewards, next_states, dones = self.replay_buffer.sample(self.batch_size)\n",
        "          self.update_network(states, actions, rewards, next_states, dones)\n",
        "\n",
        "      self.epsilon = max(self.epsilon_end, self.epsilon * self.epsilon_decay)\n",
        "      episode_rewards.append(total_reward)\n",
        "\n",
        "      if episode % 100 == 0:\n",
        "        print(f\"Episode {episode}, Average Reward: {np.mean(episode_rewards[-100:])}\")\n",
        "\n",
        "  def update_network(self, states, actions, rewards, next_states, dones):\n",
        "    #calculates loss, performs gradient descent, updates policy network\n",
        "    #updates target network periodically\n",
        "    states = torch.tensor(states, dtype=torch.float32)\n",
        "    actions = torch.tensor(actions, dtype=torch.long).unsqueeze(1)\n",
        "    rewards = torch.tensor(rewards, dtype=torch.float32)\n",
        "    next_states = torch.tensor(next_states, dtype=torch.float32)\n",
        "    dones = torch.tensor(dones, dtype=torch.float32)\n",
        "\n",
        "    q_values = self.policy_net(states).gather(1, actions)\n",
        "    next_q_values = self.target_net(next_states).max(1)[0].detach()\n",
        "    expected_q_values = rewards + self.gamma * next_q_values * (1 - dones)\n",
        "\n",
        "    loss = self.loss_fn(q_values, expected_q_values.unsqueeze(1))\n",
        "\n",
        "    self.optimizer.zero_grad()\n",
        "    loss.backward()\n",
        "    self.optimizer.step()\n",
        "\n",
        "    self.update_target_network()\n",
        "\n",
        "  def update_target_network(self):\n",
        "    self.target_net.load_state_dict(self.policy_net.state_dict())"
      ],
      "metadata": {
        "id": "SpgP_Brj5bvQ"
      },
      "execution_count": null,
      "outputs": []
    }
  ]
}