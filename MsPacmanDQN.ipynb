{
  "nbformat": 4,
  "nbformat_minor": 0,
  "metadata": {
    "colab": {
      "provenance": [],
      "authorship_tag": "ABX9TyN3KqckjL/SikoG3cnm87lc"
    },
    "kernelspec": {
      "name": "python3",
      "display_name": "Python 3"
    },
    "language_info": {
      "name": "python"
    }
  },
  "cells": [
    {
      "cell_type": "markdown",
      "source": [
        "Install main Gymnasium library, Atari 2600 game familiy dependencies, and other Python libraries we'll be using for data manipulation & visualization"
      ],
      "metadata": {
        "id": "a0httjbA4OtH"
      }
    },
    {
      "cell_type": "code",
      "execution_count": null,
      "metadata": {
        "id": "wy-nYgdC16s5"
      },
      "outputs": [],
      "source": [
        "!pip install gymnasium\n",
        "!pip install \"gymnasium[atari]\""
      ]
    },
    {
      "cell_type": "code",
      "source": [
        "!pip install numpy\n",
        "!pip install seaborn\n",
        "!pip install tqdm\n",
        "%matplotlib inline"
      ],
      "metadata": {
        "id": "oXDipMgB5z2P"
      },
      "execution_count": null,
      "outputs": []
    },
    {
      "cell_type": "markdown",
      "source": [
        "Import modules for code"
      ],
      "metadata": {
        "id": "BKorWvIu6OY3"
      }
    },
    {
      "cell_type": "code",
      "source": [
        "from collections import defaultdict #avoid key errors\n",
        "\n",
        "import matplotlib.pyplot as plt #plots\n",
        "from matplotlib.patches import patch #shapes\n",
        "import numpy as np\n",
        "import seaborn as sns #further data visualization\n",
        "from tqdm import tqdm #monitor progress for training\n",
        "\n",
        "import gymnasium as gym"
      ],
      "metadata": {
        "id": "bxnhymqS6tom"
      },
      "execution_count": null,
      "outputs": []
    },
    {
      "cell_type": "markdown",
      "source": [
        "Create MsPacman environment, visualize the environment\n",
        "Our seed resets the RNG of the environment and produces a random state upon resetting"
      ],
      "metadata": {
        "id": "xLBNbf8k8U2J"
      }
    },
    {
      "cell_type": "code",
      "source": [
        "env = gym.make(\"ALE/MsPacman-v5\")\n",
        "observation, info = env.reset(seed=42)\n"
      ],
      "metadata": {
        "id": "i7lQw5ux8UUO"
      },
      "execution_count": null,
      "outputs": []
    }
  ]
}